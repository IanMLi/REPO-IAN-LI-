{
  "nbformat": 4,
  "nbformat_minor": 0,
  "metadata": {
    "colab": {
      "provenance": [],
      "authorship_tag": "ABX9TyP3k3apN3rnHTEddvs3N0YN",
      "include_colab_link": true
    },
    "kernelspec": {
      "name": "python3",
      "display_name": "Python 3"
    },
    "language_info": {
      "name": "python"
    }
  },
  "cells": [
    {
      "cell_type": "markdown",
      "metadata": {
        "id": "view-in-github",
        "colab_type": "text"
      },
      "source": [
        "<a href=\"https://colab.research.google.com/github/IanMLi/REPO-IAN-LI-/blob/main/Practica01.ipynb\" target=\"_parent\"><img src=\"https://colab.research.google.com/assets/colab-badge.svg\" alt=\"Open In Colab\"/></a>"
      ]
    },
    {
      "cell_type": "code",
      "source": [
        "print(\"Hola mundo\")"
      ],
      "metadata": {
        "colab": {
          "base_uri": "https://localhost:8080/"
        },
        "id": "AKwbvdcdVGt1",
        "outputId": "6a19944b-b4d8-4223-c32c-08511f5d1eb1"
      },
      "execution_count": null,
      "outputs": [
        {
          "output_type": "stream",
          "name": "stdout",
          "text": [
            "Hola mundo\n"
          ]
        }
      ]
    },
    {
      "cell_type": "code",
      "source": [
        "mensaje=\"Hola mundo\"\n",
        "print(mensaje)"
      ],
      "metadata": {
        "colab": {
          "base_uri": "https://localhost:8080/"
        },
        "id": "bMVUaXDWVwRJ",
        "outputId": "dfcbf5ae-9c9f-4eaa-de7d-8dede56d9ca3"
      },
      "execution_count": null,
      "outputs": [
        {
          "output_type": "stream",
          "name": "stdout",
          "text": [
            "Hola mundo\n"
          ]
        }
      ]
    },
    {
      "cell_type": "code",
      "source": [
        "input(\"Escribe lo que quieras: \")"
      ],
      "metadata": {
        "colab": {
          "base_uri": "https://localhost:8080/",
          "height": 53
        },
        "id": "v1WWYsLOUxVD",
        "outputId": "14f9b08f-9873-4788-c8b9-f410e9121a32"
      },
      "execution_count": null,
      "outputs": [
        {
          "name": "stdout",
          "output_type": "stream",
          "text": [
            "Escribe lo que quieras: Hola Mundo\n"
          ]
        },
        {
          "output_type": "execute_result",
          "data": {
            "text/plain": [
              "'Hola Mundo'"
            ],
            "application/vnd.google.colaboratory.intrinsic+json": {
              "type": "string"
            }
          },
          "metadata": {},
          "execution_count": 3
        }
      ]
    },
    {
      "cell_type": "code",
      "source": [
        "Peso = float(input(\"Escribe tu peso en Kg: \"))\n",
        "Altura = float(input(\"Escribe tu altura en metros: \"))\n",
        "Res = Peso / (Altura ** 2)\n",
        "print(Res)\n"
      ],
      "metadata": {
        "colab": {
          "base_uri": "https://localhost:8080/"
        },
        "id": "TjvxkxauVxoS",
        "outputId": "c42eb73e-bed8-4821-aef7-d237b7f106a4"
      },
      "execution_count": 1,
      "outputs": [
        {
          "output_type": "stream",
          "name": "stdout",
          "text": [
            "Escribe tu peso en Kg: 100\n",
            "Escribe tu altura en metros: 1.80\n",
            "30.864197530864196\n"
          ]
        }
      ]
    },
    {
      "cell_type": "code",
      "source": [
        "def fibonacci(n):\n",
        "    if n <= 0:\n",
        "        return []\n",
        "    elif n == 1:\n",
        "        return [0]\n",
        "    elif n == 2:\n",
        "        return [0, 1]\n",
        "    else:\n",
        "        serie_fib = [0, 1]\n",
        "        while len(serie_fib) < n:\n",
        "            siguiente_num = serie_fib[-1] + serie_fib[-2]\n",
        "            serie_fib.append(siguiente_num)\n",
        "        return serie_fib\n",
        "\n",
        "num = int(input(\"Ingresa un número para obtener la serie de Fibonacci: \"))\n",
        "serie_fibonacci = fibonacci(num)\n",
        "print(f\"Serie de Fibonacci para los primeros {num} números: {serie_fibonacci}\")"
      ],
      "metadata": {
        "colab": {
          "base_uri": "https://localhost:8080/"
        },
        "id": "h2GBLb2RUBcp",
        "outputId": "d6d82d56-b40a-46fc-d380-ff3ed77106b9"
      },
      "execution_count": 2,
      "outputs": [
        {
          "output_type": "stream",
          "name": "stdout",
          "text": [
            "Ingresa un número para obtener la serie de Fibonacci: 5\n",
            "Serie de Fibonacci para los primeros 5 números: [0, 1, 1, 2, 3]\n"
          ]
        }
      ]
    },
    {
      "cell_type": "code",
      "source": [
        "\n",
        "cuadrados = []\n",
        "for numero in lst:\n",
        "    cuadrado = float(numero) ** 2\n",
        "    cuadrados.append(cuadrado)\n",
        "print(\"Cuadrados de los números:\", cuadrados)\n",
        "\n",
        "lst=[10, 5, 24, 6, 3]"
      ],
      "metadata": {
        "colab": {
          "base_uri": "https://localhost:8080/"
        },
        "id": "TSaS63U4YR-p",
        "outputId": "095f3abb-0fc1-4a22-c210-e64b0460c448"
      },
      "execution_count": 7,
      "outputs": [
        {
          "output_type": "stream",
          "name": "stdout",
          "text": [
            "Cuadrados de los números: [100.0, 25.0, 576.0, 36.0, 9.0]\n"
          ]
        }
      ]
    },
    {
      "cell_type": "code",
      "source": [
        "entrada=input(\"Escriba los numeros separados por comas: \")\n",
        "numeros=entrada.split(\",\")\n",
        "squares=[]\n",
        "for num in numeros:\n",
        "  square=float(num)**2\n",
        "  squares.append(square)\n",
        "print(\"Cuadrados de los numeros: \", squares)\n"
      ],
      "metadata": {
        "colab": {
          "base_uri": "https://localhost:8080/"
        },
        "id": "jTb_aPrAbgPn",
        "outputId": "2b24a062-9b58-440c-ac9b-37651d7ba888"
      },
      "execution_count": 13,
      "outputs": [
        {
          "output_type": "stream",
          "name": "stdout",
          "text": [
            "Escriba los numeros separados por comas: 1, 2, 3, 4, 5\n",
            "Cuadrados de los numeros:  [1.0, 4.0, 9.0, 16.0, 25.0]\n"
          ]
        }
      ]
    },
    {
      "cell_type": "code",
      "source": [
        "import random\n",
        "\n",
        "numero_secreto = random.randint(1, 20)\n",
        "intentos = 0\n",
        "max_intentos = 5\n",
        "\n",
        "print(\"¡Bienvenido al juego de adivinar el número!\")\n",
        "\n",
        "while intentos < max_intentos:\n",
        "    intento = int(input(\"Intenta adivinar el número (entre 1 y 20): \"))\n",
        "\n",
        "    intentos += 1\n",
        "\n",
        "    if intento < numero_secreto:\n",
        "        print(\"El número es más grande. Intenta de nuevo.\")\n",
        "    elif intento > numero_secreto:\n",
        "        print(\"El número es más pequeño. Intenta de nuevo.\")\n",
        "    else:\n",
        "        print(f\"¡Felicitaciones! Adivinaste el número {numero_secreto} en {intentos} intentos.\")\n",
        "        break\n",
        "\n",
        "if intentos == max_intentos:\n",
        "    print(f\"¡Agotaste tus {max_intentos} intentos! El número secreto era {numero_secreto}.\")\n"
      ],
      "metadata": {
        "colab": {
          "base_uri": "https://localhost:8080/"
        },
        "id": "kEGSQZT4dyzt",
        "outputId": "747267f2-d5ee-4fdf-d03d-2dc500f8a3ea"
      },
      "execution_count": 14,
      "outputs": [
        {
          "output_type": "stream",
          "name": "stdout",
          "text": [
            "¡Bienvenido al juego de adivinar el número!\n",
            "Intenta adivinar el número (entre 1 y 20): 5\n",
            "El número es más grande. Intenta de nuevo.\n",
            "Intenta adivinar el número (entre 1 y 20): 18\n",
            "El número es más pequeño. Intenta de nuevo.\n",
            "Intenta adivinar el número (entre 1 y 20): 15\n",
            "El número es más pequeño. Intenta de nuevo.\n",
            "Intenta adivinar el número (entre 1 y 20): 9\n",
            "El número es más grande. Intenta de nuevo.\n",
            "Intenta adivinar el número (entre 1 y 20): 12\n",
            "El número es más grande. Intenta de nuevo.\n",
            "¡Agotaste tus 5 intentos! El número secreto era 13.\n"
          ]
        }
      ]
    }
  ]
}